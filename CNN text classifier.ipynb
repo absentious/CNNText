{
 "cells": [
  {
   "cell_type": "code",
   "execution_count": null,
   "metadata": {},
   "outputs": [],
   "source": [
    "import tensorflow as tf\n",
    "import numpy as np\n"
   ]
  },
  {
   "cell_type": "code",
   "execution_count": null,
   "metadata": {},
   "outputs": [],
   "source": [
    "class TextCNN(object):\n",
    "    \n",
    "    def __init__(\n",
    "        self, sequenceLength, numClasses, vocabSize, embeddingSize,\n",
    "        filterSizes, numFilters):\n",
    "        #sequenceLength - sentence length. padded to 59\n",
    "        #numClasses - output layer. in this case, 2 (sentiment +/-)\n",
    "        #vocabSize - defines size of vocab. also defines embedding layer \n",
    "        #embeddingSize - dimension of embeddings\n",
    "        #filterSizes - parameters for filters\n",
    "        #numFilters - # filters per filter size\n",
    "            #total: numFilters * len(filterSizes) filters\n",
    "        \n",
    "        self.input_x = tf.placeholder(tf.int32, [None, sequence_length], name=\"input_x\")\n",
    "            #input one sentence at a time\n",
    "        self.input_y = tf.placeholder(tf.float32, [None, num_classes], name=\"input_y\")\n",
    "            #output 2 classes\n",
    "        self.dropout_keep_prob = tf.placeholder(tf.float32, name=\"dropout_keep_prob\")\n",
    "            #dropout probability prevents overfitting\n",
    "            \n",
    "        with tf.device('/cpu:0'), tf.name_scope(\"embedding\"):\n",
    "            W = tf.Variable(tf.random_uniform([vocabSize, embeddingSize], 1.0, 1.0), name=\"W\")\n",
    "                #weight matrix\n",
    "            self.embedded_chars = tf.nn.embedding_lookup(W, self.input_x)\n",
    "                #creates the actual embedding op\n",
    "                    #x*W - more efficient than matmul - why?\n",
    "            self.embedded_chars_expanded = tf.expand_dims(self.embedded_chars, -1)\n",
    "            \n",
    "        \n",
    "        #conv and maxpool\n",
    "        pooled_outputs = []"
   ]
  }
 ],
 "metadata": {
  "kernelspec": {
   "display_name": "Python 3",
   "language": "python",
   "name": "python3"
  },
  "language_info": {
   "codemirror_mode": {
    "name": "ipython",
    "version": 3
   },
   "file_extension": ".py",
   "mimetype": "text/x-python",
   "name": "python",
   "nbconvert_exporter": "python",
   "pygments_lexer": "ipython3",
   "version": "3.5.5"
  }
 },
 "nbformat": 4,
 "nbformat_minor": 2
}
